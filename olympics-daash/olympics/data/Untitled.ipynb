{
 "cells": [
  {
   "cell_type": "markdown",
   "metadata": {
    "toc": true
   },
   "source": [
    "<h1>Table of Contents<span class=\"tocSkip\"></span></h1>\n",
    "<div class=\"toc\"><ul class=\"toc-item\"></ul></div>"
   ]
  },
  {
   "cell_type": "code",
   "execution_count": null,
   "metadata": {
    "ExecuteTime": {
     "end_time": "2019-10-17T01:07:58.611079Z",
     "start_time": "2019-10-17T01:07:53.558118Z"
    }
   },
   "outputs": [],
   "source": [
    "import os\n",
    "from sklearn.decomposition import PCA\n",
    "import pandas as pd\n"
   ]
  },
  {
   "cell_type": "code",
   "execution_count": null,
   "metadata": {
    "ExecuteTime": {
     "end_time": "2019-10-17T14:12:16.006488Z",
     "start_time": "2019-10-17T14:12:13.950984Z"
    }
   },
   "outputs": [],
   "source": [
    "oly_df = pd.read_csv('data/athlete_events.csv', index_col='ID')\n",
    "columns=['Name', 'Sex', 'Age','Height', 'Weight', 'Season', 'Sport', 'Event']\n",
    "oly_df = oly_df[columns + ['Medal']]\n",
    "oly_df = oly_df.dropna(subset=columns)\n",
    "oly_df.to_csv('data/athlete_events_fil.csv')\n",
    "print(oly_df.shape)\n",
    "oly_df.head()\n"
   ]
  },
  {
   "cell_type": "code",
   "execution_count": null,
   "metadata": {
    "ExecuteTime": {
     "end_time": "2019-10-20T19:47:05.900644Z",
     "start_time": "2019-10-20T19:47:05.886493Z"
    }
   },
   "outputs": [],
   "source": [
    "pd.Series([1,2,3]).astype(str)[0]"
   ]
  },
  {
   "cell_type": "code",
   "execution_count": null,
   "metadata": {
    "ExecuteTime": {
     "end_time": "2019-10-17T11:37:50.393449Z",
     "start_time": "2019-10-17T11:37:50.143663Z"
    }
   },
   "outputs": [],
   "source": [
    "all_sport_groupdf = oly_df.groupby('Sport').agg(['count', 'std', 'mean'])\n",
    "all_sport_groupdf.columns = [i[0].lower() + '_' +  i[1] for i in all_sport_groupdf.columns]\n",
    "all_sport_groupdf = all_sport_groupdf.drop(['height_count', 'weight_count'], axis=1).rename({'age_count' : 'count'}, axis=1)\n",
    "all_sport_groupdf.head()"
   ]
  },
  {
   "cell_type": "code",
   "execution_count": null,
   "metadata": {
    "ExecuteTime": {
     "end_time": "2019-10-17T14:59:09.875707Z",
     "start_time": "2019-10-17T14:59:09.766963Z"
    }
   },
   "outputs": [],
   "source": [
    "winner_sport_groupdf = oly_df.loc[oly_df['Medal'] == oly_df['Medal'], :].groupby('Sport').agg(['count', 'std', 'mean', 'max', 'min'])\n",
    "winner_sport_groupdf.columns = [i[0].lower() + '_' +  i[1] for i in winner_sport_groupdf.columns]\n",
    "winner_sport_groupdf = winner_sport_groupdf.drop(['height_count', 'weight_count'], axis=1).rename({'age_count' : 'count'}, axis=1)\n",
    "\n",
    "winner_sport_groupdf.head()"
   ]
  },
  {
   "cell_type": "code",
   "execution_count": null,
   "metadata": {
    "ExecuteTime": {
     "end_time": "2019-10-18T20:37:32.717477Z",
     "start_time": "2019-10-18T20:37:32.692593Z"
    }
   },
   "outputs": [],
   "source": [
    "age_value = 30\n",
    "\n",
    "winner_sport_groupdf.loc[:, 'age_z_score'] = (age_value - winner_sport_groupdf['age_mean']) / winner_sport_groupdf['age_std']\n",
    "\n",
    "winner_sport_groupdf.head()"
   ]
  },
  {
   "cell_type": "code",
   "execution_count": null,
   "metadata": {
    "ExecuteTime": {
     "end_time": "2019-10-18T21:11:41.137231Z",
     "start_time": "2019-10-18T21:11:41.131747Z"
    }
   },
   "outputs": [],
   "source": [
    "0 % 2"
   ]
  },
  {
   "cell_type": "code",
   "execution_count": null,
   "metadata": {
    "ExecuteTime": {
     "end_time": "2019-10-17T15:17:12.144860Z",
     "start_time": "2019-10-17T15:17:12.108778Z"
    }
   },
   "outputs": [],
   "source": [
    "pca = PCA(n_components=2)\n",
    "\n",
    "### Do PCA on stats to get X and Y of scatter\n",
    "winner_sport_groupdf.loc[:, 'PCA_1'] = pca.fit_transform(winner_sport_groupdf.drop('count', axis=1))[:, 0]\n",
    "winner_sport_groupdf.loc[:, 'PCA_2'] = pca.fit_transform(winner_sport_groupdf.drop('count', axis=1))[:, 1]\n",
    "winner_sport_groupdf.to_csv(\"data/oly_winners.csv\")\n",
    "\n",
    "winner_sport_groupdf.head()\n"
   ]
  },
  {
   "cell_type": "code",
   "execution_count": null,
   "metadata": {
    "ExecuteTime": {
     "end_time": "2019-10-17T15:16:55.234667Z",
     "start_time": "2019-10-17T15:16:55.126737Z"
    }
   },
   "outputs": [],
   "source": [
    "winner_sport_groupdf = oly_df.loc[oly_df['Medal'] == oly_df['Medal'], :].groupby('Sport').agg(['count', 'std', 'mean', 'max', 'min'])\n",
    "winner_sport_groupdf.columns = [i[0].lower() + '_' +  i[1] for i in winner_sport_groupdf.columns]\n",
    "winner_sport_groupdf = winner_sport_groupdf.drop(['height_count', 'weight_count'], axis=1).rename({'age_count' : 'count'}, axis=1)\n",
    "winner_sport_groupdf = winner_sport_groupdf.dropna()\n",
    "\n",
    "winner_sport_groupdf.head()\n",
    "\n"
   ]
  },
  {
   "cell_type": "code",
   "execution_count": null,
   "metadata": {
    "ExecuteTime": {
     "end_time": "2019-10-20T22:27:03.750454Z",
     "start_time": "2019-10-20T22:27:03.691200Z"
    }
   },
   "outputs": [],
   "source": [
    "def _create_data():\n",
    "    oly_df = pd.read_csv('athlete_events.csv', index_col='ID')\n",
    "    columns=['Name', 'Sex', 'Age','Height', 'Weight', 'Season', 'Sport', 'Event']\n",
    "    oly_df = oly_df[columns + ['Medal']]\n",
    "    oly_df = oly_df.dropna(subset=columns)\n",
    "\n",
    "    oly_df['Weight_met'] = oly_df['Weight']\n",
    "    oly_df['Height_met'] = oly_df['Height']\n",
    "\n",
    "    oly_df['Weight_emp'] = oly_df['Weight_met'] * 2.2046226218\n",
    "    oly_df['Height_emp'] = oly_df['Height_met'] * 0.393701\n",
    "\n",
    "\n",
    "    all_sport_groupdf = oly_df.groupby('Sport').agg(['count', 'std', 'mean'])\n",
    "    winner_sport_groupdf = oly_df[oly_df['Medal'].notna()].groupby('Sport').agg(['count', 'mean', 'std'])\n",
    "\n",
    "    all_sport_groupdf = oly_df.groupby('Sport').agg(['count', 'std', 'mean'])\n",
    "    all_sport_groupdf.columns = [i[0].lower() + '_all_' +  i[1] for i in all_sport_groupdf.columns]\n",
    "    all_sport_groupdf = all_sport_groupdf.drop(['height_met_all_count', 'height_emp_all_count', 'weight_emp_all_count', 'weight_met_all_count'], axis=1).rename({'age_all_count' : 'all_count'}, axis=1)\n",
    "\n",
    "\n",
    "    winner_sport_groupdf = oly_df[oly_df['Medal'].notna()].groupby('Sport').agg(['count', 'mean', 'std'])\n",
    "    winner_sport_groupdf.columns = [i[0].lower() + '_winner_' +  i[1] for i in winner_sport_groupdf.columns]\n",
    "\n",
    "    sport_df = pd.merge(all_sport_groupdf, winner_sport_groupdf, left_index=True, right_index=True)\n",
    "    sport_df = sport_df.drop(['height_met_winner_count', 'height_emp_winner_count', 'weight_emp_winner_count', 'weight_met_winner_count'], axis=1).rename({'age_winner_count' : 'winner_count'}, axis=1)\n",
    "    sport_df = sport_df[sport_df['all_count'] > 50]\n",
    "    sport_df = sport_df.replace(np.nan, 0)\n",
    "    oly_df = oly_df.replace(np.nan, 0)#.reset_index()\n",
    "\n",
    "    total_medals = np.sum(sport_df['winner_count'])\n",
    "    sport_df['pct_athletes_winners'] = sport_df['winner_count'] / sport_df['all_count']\n",
    "    sport_df['pct_total_medals'] = sport_df['winner_count'] / total_medals\n",
    "    sport_df['weight_winner_z_score'] = 0\n",
    "    sport_df['age_winner_z_score'] = 0\n",
    "    sport_df['height_winner_z_score'] = 0\n",
    "\n",
    "    sport_df.loc['Average Olympian', [f'height_emp_winner_mean', f'weight_emp_winner_mean']] = [oly_df[f'Height_emp'].mean(), oly_df[f'Weight_emp'].mean()]\n",
    "    sport_df.loc['Average Olympian', [f'height_met_winner_mean', f'weight_met_winner_mean']] = [oly_df[f'Height_met'].mean(), oly_df[f'Weight_met'].mean()]\n",
    "    sport_df.loc['Average Olympian', 'age_winner_mean'] = oly_df[f'Age'].mean()\n",
    "\n",
    "    sport_df.loc['Average Olympian', 'pct_athletes_winners'] = 2\n",
    "    sport_df.loc['Person', :] = 0\n",
    "    sport_df.loc['Person', 'pct_athletes_winners'] = 2\n",
    "    sport_df.to_csv('sport_df_proc.csv')\n",
    "    oly_df.to_csv('oly_df_proc.csv')\n",
    "    return sport_df, oly_df\n",
    "\n",
    "_create_data()"
   ]
  },
  {
   "cell_type": "code",
   "execution_count": null,
   "metadata": {},
   "outputs": [],
   "source": []
  }
 ],
 "metadata": {
  "kernelspec": {
   "display_name": "Python 3",
   "language": "python",
   "name": "python3"
  },
  "language_info": {
   "codemirror_mode": {
    "name": "ipython",
    "version": 3
   },
   "file_extension": ".py",
   "mimetype": "text/x-python",
   "name": "python",
   "nbconvert_exporter": "python",
   "pygments_lexer": "ipython3",
   "version": "3.7.3"
  },
  "toc": {
   "base_numbering": 1,
   "nav_menu": {},
   "number_sections": true,
   "sideBar": true,
   "skip_h1_title": true,
   "title_cell": "Table of Contents",
   "title_sidebar": "Contents",
   "toc_cell": true,
   "toc_position": {},
   "toc_section_display": true,
   "toc_window_display": false
  },
  "varInspector": {
   "cols": {
    "lenName": 16,
    "lenType": 16,
    "lenVar": 40
   },
   "kernels_config": {
    "python": {
     "delete_cmd_postfix": "",
     "delete_cmd_prefix": "del ",
     "library": "var_list.py",
     "varRefreshCmd": "print(var_dic_list())"
    },
    "r": {
     "delete_cmd_postfix": ") ",
     "delete_cmd_prefix": "rm(",
     "library": "var_list.r",
     "varRefreshCmd": "cat(var_dic_list()) "
    }
   },
   "types_to_exclude": [
    "module",
    "function",
    "builtin_function_or_method",
    "instance",
    "_Feature"
   ],
   "window_display": false
  }
 },
 "nbformat": 4,
 "nbformat_minor": 2
}
